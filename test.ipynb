{
 "cells": [
  {
   "cell_type": "code",
   "execution_count": null,
   "metadata": {},
   "outputs": [],
   "source": [
    "python main.py --model WGAN-GP \\\n",
    "               --is_train True \\\n",
    "               --dataroot \"../datasets/JSRTcomb\" \\\n",
    "               --dataset JSRT \\\n",
    "               --generator_iters 40000 \\\n",
    "               --cuda True \\\n",
    "               --batch_size 64"
   ]
  },
  {
   "cell_type": "code",
   "execution_count": 3,
   "metadata": {},
   "outputs": [
    {
     "name": "stderr",
     "output_type": "stream",
     "text": [
      "/root/miniconda3/envs/myenv/lib/python3.8/site-packages/tqdm/auto.py:22: TqdmWarning: IProgress not found. Please update jupyter and ipywidgets. See https://ipywidgets.readthedocs.io/en/stable/user_install.html\n",
      "  from .autonotebook import tqdm as notebook_tqdm\n"
     ]
    }
   ],
   "source": [
    "import torchvision.datasets as dset\n",
    "import torchvision.transforms as transforms\n",
    "import torch.utils.data as data_utils\n",
    "from PIL import Image\n",
    "import os\n",
    "from tqdm import tqdm\n",
    "import matplotlib.pyplot as plt\n",
    "import matplotlib.image as mpimg\n",
    "import numpy as np\n",
    "import torch\n",
    "import numpy as np \n",
    "\n"
   ]
  },
  {
   "cell_type": "code",
   "execution_count": 204,
   "metadata": {},
   "outputs": [
    {
     "name": "stderr",
     "output_type": "stream",
     "text": [
      "100%|██████████| 247/247 [00:57<00:00,  4.30it/s]\n"
     ]
    }
   ],
   "source": [
    "maskpath = \"../datasets/JSRT/Masks/\"\n",
    "imgpath = \"../datasets/JSRT/Images/\"\n",
    "combpath = \"../datasets/JSRTcomb/comb/\"\n",
    "# path = \"../datasets/JSRTogMasks/\"\n",
    "\n",
    "for imgname in tqdm(os.listdir(maskpath)):\n",
    "    # print(imgname)\n",
    "    msk = Image.open(maskpath + imgname)\n",
    "    mask = np.expand_dims(np.array(msk)*255, axis = 2)\n",
    "    image = Image.open(imgpath + imgname)\n",
    "    img = np.expand_dims(np.array(image), axis = 2)\n",
    "    tmp = np.zeros_like(img)\n",
    "    # print(mask.dtype, img.dtype, tmp.shape, tmp.dtype, tmp)\n",
    "    comb = np.concatenate((img, mask, tmp), axis = 2)\n",
    "    \n",
    "    # print(comb.dtype, comb.shape)\n",
    "    comb = Image.fromarray(comb)\n",
    "    comb.save(combpath + imgname)\n",
    "    # break"
   ]
  },
  {
   "cell_type": "code",
   "execution_count": 24,
   "metadata": {},
   "outputs": [
    {
     "data": {
      "text/plain": [
       "(256, 256, 3)"
      ]
     },
     "execution_count": 24,
     "metadata": {},
     "output_type": "execute_result"
    }
   ],
   "source": [
    "img.shape"
   ]
  },
  {
   "cell_type": "code",
   "execution_count": 8,
   "metadata": {},
   "outputs": [],
   "source": [
    "im = Image.fromarray(img[:,:,1][2:66, 2:66])\n",
    "im.show()"
   ]
  },
  {
   "cell_type": "code",
   "execution_count": 17,
   "metadata": {},
   "outputs": [
    {
     "data": {
      "image/png": "[encoded data removed]",
      "text/plain": [
       "<Figure size 640x480 with 1 Axes>"
      ]
     },
     "metadata": {},
     "output_type": "display_data"
    }
   ],
   "source": [
    "img = mpimg.imread(\"/root/training_result_images/img_generatori_iter_7455.png\")\n",
    "imgplot = plt.imshow(img[:,:,0][2:66, 2:66])\n",
    "plt.show()"
   ]
  },
  {
   "cell_type": "code",
   "execution_count": 205,
   "metadata": {},
   "outputs": [],
   "source": [
    "# We can use an image folder dataset the way we have it setup.\n",
    "# Create the dataset\n",
    "\n",
    "image_size = 256\n",
    "bs = 32\n",
    "ngpu = 1\n",
    "dataroot = \"../datasets/JSRTcomb\"\n",
    "\n",
    "\n",
    "dataset = dset.ImageFolder(root=dataroot,\n",
    "                           transform=transforms.Compose([\n",
    "                               transforms.Resize(image_size),\n",
    "                               transforms.ToTensor(),\n",
    "                               transforms.Normalize((0.5, 0.5, 0.5), (0.5, 0.5, 0.5)),\n",
    "                           ]))\n",
    "# Create the dataloader\n",
    "dataloader = torch.utils.data.DataLoader(dataset, batch_size=bs,shuffle=True)\n",
    "\n",
    "# Decide which device we want to run on\n",
    "device = torch.device(\"cuda:0\" if (torch.cuda.is_available() and ngpu > 0) else \"cpu\")"
   ]
  }
 ],
 "metadata": {
  "kernelspec": {
   "display_name": "myenv",
   "language": "python",
   "name": "python3"
  },
  "language_info": {
   "codemirror_mode": {
    "name": "ipython",
    "version": 3
   },
   "file_extension": ".py",
   "mimetype": "text/x-python",
   "name": "python",
   "nbconvert_exporter": "python",
   "pygments_lexer": "ipython3",
   "version": "3.8.16"
  },
  "orig_nbformat": 4,
  "vscode": {
   "interpreter": {
    "hash": "9564eaee7b2d18fff668db0d56d5be435fa415a0b75ee906b58019918c1dc466"
   }
  }
 },
 "nbformat": 4,
 "nbformat_minor": 2
}
